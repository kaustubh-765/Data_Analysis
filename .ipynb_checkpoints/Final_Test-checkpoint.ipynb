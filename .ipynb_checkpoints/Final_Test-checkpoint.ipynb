{
 "cells": [
  {
   "cell_type": "code",
   "execution_count": 39,
   "id": "a06bee08",
   "metadata": {},
   "outputs": [],
   "source": [
    "import pandas as pd\n",
    "import numpy as np\n",
    "import matplotlib.pyplot as plt\n",
    "from sklearn.preprocessing import OneHotEncoder, LabelEncoder\n",
    "from sklearn.metrics import accuracy_score\n",
    "from sklearn import svm, neighbors\n",
    "from sklearn.linear_model import LinearRegression, LogisticRegression\n",
    "from sklearn.model_selection import train_test_split\n",
    "from sklearn.model_selection import cross_val_score\n",
    "from sklearn.tree import DecisionTreeRegressor\n",
    "from sklearn.ensemble import RandomForestRegressor\n",
    "%matplotlib inline"
   ]
  },
  {
   "cell_type": "code",
   "execution_count": 2,
   "id": "d10e3353",
   "metadata": {},
   "outputs": [],
   "source": [
    "cars_main = pd.read_csv(\"cars_engage_2022.csv\", index_col = 'Unnamed: 0')"
   ]
  },
  {
   "cell_type": "code",
   "execution_count": 3,
   "id": "05a1ac28",
   "metadata": {},
   "outputs": [
    {
     "name": "stdout",
     "output_type": "stream",
     "text": [
      "     Make      Model  Variant Ex-Showroom_Price Displacement  Cylinders  \\\n",
      "0    Tata  Nano Genx       Xt      Rs. 2,92,667       624 cc        2.0   \n",
      "1    Tata  Nano Genx       Xe      Rs. 2,36,447       624 cc        2.0   \n",
      "2    Tata  Nano Genx  Emax Xm      Rs. 2,96,661       624 cc        2.0   \n",
      "3    Tata  Nano Genx      Xta      Rs. 3,34,768       624 cc        2.0   \n",
      "4    Tata  Nano Genx       Xm      Rs. 2,72,223       624 cc        2.0   \n",
      "5    Tata  Nano Genx      Xma      Rs. 3,14,815       624 cc        2.0   \n",
      "6  Datsun    Redi-Go        D      Rs. 2,79,650       799 cc        3.0   \n",
      "7  Datsun    Redi-Go        T      Rs. 3,51,832       799 cc        3.0   \n",
      "8  Datsun    Redi-Go        A      Rs. 3,33,419       799 cc        3.0   \n",
      "9  Datsun    Redi-Go        S      Rs. 3,62,000       799 cc        3.0   \n",
      "\n",
      "   Valves_Per_Cylinder               Drivetrain Cylinder_Configuration  \\\n",
      "0                  2.0   RWD (Rear Wheel Drive)                In-line   \n",
      "1                  2.0   RWD (Rear Wheel Drive)                In-line   \n",
      "2                  2.0   RWD (Rear Wheel Drive)                In-line   \n",
      "3                  2.0   RWD (Rear Wheel Drive)                In-line   \n",
      "4                  2.0   RWD (Rear Wheel Drive)                In-line   \n",
      "5                  2.0   RWD (Rear Wheel Drive)                In-line   \n",
      "6                  4.0  FWD (Front Wheel Drive)                In-line   \n",
      "7                  4.0  FWD (Front Wheel Drive)                In-line   \n",
      "8                  4.0  FWD (Front Wheel Drive)                In-line   \n",
      "9                  4.0  FWD (Front Wheel Drive)                In-line   \n",
      "\n",
      "  Emission_Norm  ... Leather_Wrapped_Steering Automatic_Headlamps Engine_Type  \\\n",
      "0         BS IV  ...                      NaN                 NaN         NaN   \n",
      "1         BS IV  ...                      NaN                 NaN         NaN   \n",
      "2         BS IV  ...                      NaN                 NaN         NaN   \n",
      "3         BS IV  ...                      NaN                 NaN         NaN   \n",
      "4         BS IV  ...                      NaN                 NaN         NaN   \n",
      "5         BS IV  ...                      NaN                 NaN         NaN   \n",
      "6         BS IV  ...                      NaN                 NaN         NaN   \n",
      "7         BS IV  ...                      NaN                 NaN         NaN   \n",
      "8         BS IV  ...                      NaN                 NaN         NaN   \n",
      "9         BS IV  ...                      NaN                 NaN         NaN   \n",
      "\n",
      "  ASR_/_Traction_Control Cruise_Control USB_Ports Heads-Up_Display  \\\n",
      "0                    NaN            NaN       NaN              NaN   \n",
      "1                    NaN            NaN       NaN              NaN   \n",
      "2                    NaN            NaN       NaN              NaN   \n",
      "3                    NaN            NaN       NaN              NaN   \n",
      "4                    NaN            NaN       NaN              NaN   \n",
      "5                    NaN            NaN       NaN              NaN   \n",
      "6                    NaN            NaN       NaN              NaN   \n",
      "7                    NaN            NaN       NaN              NaN   \n",
      "8                    NaN            NaN       NaN              NaN   \n",
      "9                    NaN            NaN       NaN              NaN   \n",
      "\n",
      "  Welcome_Lights  Battery Electric_Range  \n",
      "0            NaN      NaN            NaN  \n",
      "1            NaN      NaN            NaN  \n",
      "2            NaN      NaN            NaN  \n",
      "3            NaN      NaN            NaN  \n",
      "4            NaN      NaN            NaN  \n",
      "5            NaN      NaN            NaN  \n",
      "6            NaN      NaN            NaN  \n",
      "7            NaN      NaN            NaN  \n",
      "8            NaN      NaN            NaN  \n",
      "9            NaN      NaN            NaN  \n",
      "\n",
      "[10 rows x 140 columns]\n"
     ]
    }
   ],
   "source": [
    "print(cars_main.head(10))"
   ]
  },
  {
   "cell_type": "code",
   "execution_count": 4,
   "id": "2a7b62d0",
   "metadata": {},
   "outputs": [
    {
     "data": {
      "text/plain": [
       "Index(['Make', 'Model', 'Variant', 'Ex-Showroom_Price', 'Displacement',\n",
       "       'Cylinders', 'Valves_Per_Cylinder', 'Drivetrain',\n",
       "       'Cylinder_Configuration', 'Emission_Norm',\n",
       "       ...\n",
       "       'Leather_Wrapped_Steering', 'Automatic_Headlamps', 'Engine_Type',\n",
       "       'ASR_/_Traction_Control', 'Cruise_Control', 'USB_Ports',\n",
       "       'Heads-Up_Display', 'Welcome_Lights', 'Battery', 'Electric_Range'],\n",
       "      dtype='object', length=140)"
      ]
     },
     "execution_count": 4,
     "metadata": {},
     "output_type": "execute_result"
    }
   ],
   "source": [
    "cars_main.columns"
   ]
  },
  {
   "cell_type": "code",
   "execution_count": 5,
   "id": "48b94713",
   "metadata": {},
   "outputs": [
    {
     "data": {
      "text/plain": [
       "Make                    0\n",
       "Model                   0\n",
       "Variant                 0\n",
       "Ex-Showroom_Price       0\n",
       "Displacement           12\n",
       "                     ... \n",
       "USB_Ports            1247\n",
       "Heads-Up_Display     1225\n",
       "Welcome_Lights       1207\n",
       "Battery              1263\n",
       "Electric_Range       1259\n",
       "Length: 140, dtype: int64"
      ]
     },
     "execution_count": 5,
     "metadata": {},
     "output_type": "execute_result"
    }
   ],
   "source": [
    "cars_main.isnull().sum()"
   ]
  },
  {
   "cell_type": "code",
   "execution_count": 6,
   "id": "9cbea150",
   "metadata": {},
   "outputs": [
    {
     "data": {
      "text/plain": [
       "0"
      ]
     },
     "execution_count": 6,
     "metadata": {},
     "output_type": "execute_result"
    }
   ],
   "source": [
    "cars_main['Cylinders'].isnull().sum()\n",
    "\n",
    "#cars_main['Displacement'] = cars_main['Displacement'].fillna(cars_main['Displacement'].mode())\n",
    "cars_main['Cylinders'] = cars_main['Cylinders'].fillna(cars_main['Cylinders'].mean())\n",
    "cars_main['Cylinders'].isnull().sum()"
   ]
  },
  {
   "cell_type": "code",
   "execution_count": 7,
   "id": "91a81b63",
   "metadata": {},
   "outputs": [
    {
     "data": {
      "text/plain": [
       "0"
      ]
     },
     "execution_count": 7,
     "metadata": {},
     "output_type": "execute_result"
    }
   ],
   "source": [
    "cars_main['Valves_Per_Cylinder'] = cars_main['Valves_Per_Cylinder'].fillna(cars_main['Valves_Per_Cylinder'].mean())\n",
    "cars_main['Valves_Per_Cylinder'].isnull().sum()"
   ]
  },
  {
   "cell_type": "code",
   "execution_count": 8,
   "id": "6149f1a7",
   "metadata": {},
   "outputs": [
    {
     "data": {
      "text/plain": [
       "0"
      ]
     },
     "execution_count": 8,
     "metadata": {},
     "output_type": "execute_result"
    }
   ],
   "source": [
    "cars_main['Gears'] = cars_main['Gears'].str.extract('(\\d+)').astype(float)\n",
    "cars_main['Gears'].astype(float)\n",
    "cars_main[\"Gears\"] = cars_main[\"Gears\"].fillna(cars_main['Gears'].mean())\n",
    "cars_main['Gears'].isnull().sum()"
   ]
  },
  {
   "cell_type": "code",
   "execution_count": 9,
   "id": "11ddd08e",
   "metadata": {},
   "outputs": [],
   "source": [
    "#drop_series = ['Power_Seats', 'Keyless_Entry', '12v_Power_Outlet', '']\n",
    "cars_main['Start_/_Stop_Button'].unique()\n",
    "cars_main['Start_/_Stop_Button'] = cars_main['Start_/_Stop_Button'].fillna('No')"
   ]
  },
  {
   "cell_type": "code",
   "execution_count": 10,
   "id": "7ea6240a",
   "metadata": {},
   "outputs": [],
   "source": [
    "#seires_list = [ cars_main['Make'], cars_main['Model'], cars_main['Variant'], cars_main['Cylinders'], cars_main['Gears'] ]\n",
    "#Training_set = pd.concat(seires_list, axis=1)\n",
    "\n",
    "#encoder = OneHotEncoder(handle_unknown= 'ignore')\n",
    "#encoder.fit_transform(Training_set)"
   ]
  },
  {
   "cell_type": "code",
   "execution_count": 11,
   "id": "bb4625e2",
   "metadata": {},
   "outputs": [],
   "source": [
    "#cars_encoded_dp = pd.DataFrame(encoder.fit_transform(Training_set).toarray())"
   ]
  },
  {
   "cell_type": "code",
   "execution_count": 12,
   "id": "67e86c84",
   "metadata": {},
   "outputs": [],
   "source": [
    "#Training_set.join(cars_encoded_dp)"
   ]
  },
  {
   "cell_type": "code",
   "execution_count": 13,
   "id": "62f91604",
   "metadata": {},
   "outputs": [],
   "source": [
    "\"\"\"new_list = [ cars_main['Ex-Showroom_Price'],\n",
    "            cars_main['Emission_Norm'],\n",
    "            cars_main['Fuel_Tank_Capacity'],\n",
    "            cars_main['Fuel_Type'],\n",
    "            cars_main['Body_Type'],\n",
    "            cars_main['City_Mileage'],\n",
    "            cars_main['Highway_Mileage'],\n",
    "            cars_main['ARAI_Certified_Mileage'],\n",
    "            cars_main['Keyless_Entry'],\n",
    "            cars_main['Power'],\n",
    "            cars_main['Torque'],\n",
    "            cars_main['Speedometer'],\n",
    "            cars_main['Tachometer'],\n",
    "            cars_main['Type'],\n",
    "            cars_main['Basic_Warranty'],\n",
    "            cars_main['Boot_Space'],\n",
    "            cars_main['Airbags'],\n",
    "            cars_main['Cruise_Control']\n",
    "           ]\n",
    "\"\"\"\n",
    "#Starting with training models\n",
    "X = cars_main[[\n",
    "    'Emission_Norm',\n",
    "    'Fuel_Tank_Capacity',\n",
    "    'Body_Type',\n",
    "    'Fuel_Type',\n",
    "    'City_Mileage',\n",
    "    'Highway_Mileage',\n",
    "    'ARAI_Certified_Mileage',\n",
    "    'Keyless_Entry',\n",
    "    'Power',\n",
    "    'Torque',\n",
    "    'Speedometer',\n",
    "    'Tachometer',\n",
    "    'Type',\n",
    "    'Basic_Warranty',\n",
    "    'Boot_Space',\n",
    "    'Airbags',\n",
    "    'Cruise_Control'\n",
    "]].values\n",
    "\n",
    "y = cars_main[['Ex-Showroom_Price']]\n",
    "#List_cars_encoded = pd.concat(new_list, axis=1)\n",
    "#List_cars_encoded.join(cars_encoded_dp)"
   ]
  },
  {
   "cell_type": "code",
   "execution_count": 14,
   "id": "b1bdb428",
   "metadata": {},
   "outputs": [
    {
     "data": {
      "text/plain": [
       "[<matplotlib.lines.Line2D at 0x1d80f41e190>]"
      ]
     },
     "execution_count": 14,
     "metadata": {},
     "output_type": "execute_result"
    },
    {
     "data": {
      "image/png": "[encoded data removed]",
      "text/plain": [
       "<Figure size 432x288 with 1 Axes>"
      ]
     },
     "metadata": {
      "needs_background": "light"
     },
     "output_type": "display_data"
    }
   ],
   "source": [
    "plt.plot(cars_main['Ex-Showroom_Price'], cars_main['Power'])"
   ]
  },
  {
   "cell_type": "code",
   "execution_count": 15,
   "id": "d640f809",
   "metadata": {},
   "outputs": [],
   "source": [
    "#[int(s) for s in cars_main['Ex-Showroom_Price'] if s.isdigit()]\n",
    "#print (cars_main['Ex-Showroom_Price'])\n",
    "le = LabelEncoder()"
   ]
  },
  {
   "cell_type": "code",
   "execution_count": 16,
   "id": "cbc81c19",
   "metadata": {},
   "outputs": [
    {
     "name": "stdout",
     "output_type": "stream",
     "text": [
      "[[2 3 5 ... 2 207 1]\n",
      " [2 3 5 ... 2 207 1]\n",
      " [2 2 5 ... 2 207 1]\n",
      " ...\n",
      " [0 10 11 ... 104 16 0]\n",
      " [0 10 11 ... 104 89 0]\n",
      " [2 54 9 ... 1 111 0]]\n"
     ]
    }
   ],
   "source": [
    "for i in range(len(X[0])):\n",
    "    X[:,i] = le.fit_transform(X[:,i])\n",
    "    \n",
    "print (X)"
   ]
  },
  {
   "cell_type": "code",
   "execution_count": 17,
   "id": "1708976c",
   "metadata": {},
   "outputs": [
    {
     "name": "stdout",
     "output_type": "stream",
     "text": [
      "[345 326 348 ... 226 146 829]\n"
     ]
    },
    {
     "name": "stderr",
     "output_type": "stream",
     "text": [
      "C:\\Users\\kaust\\anaconda3\\lib\\site-packages\\sklearn\\preprocessing\\_label.py:115: DataConversionWarning: A column-vector y was passed when a 1d array was expected. Please change the shape of y to (n_samples, ), for example using ravel().\n",
      "  y = column_or_1d(y, warn=True)\n"
     ]
    }
   ],
   "source": [
    "y = le.fit_transform(y)\n",
    "print(y)"
   ]
  },
  {
   "cell_type": "code",
   "execution_count": 18,
   "id": "dcdf8cbc",
   "metadata": {},
   "outputs": [],
   "source": [
    "X_train, X_test, y_train, y_test = train_test_split(X,y, test_size = 0.2)"
   ]
  },
  {
   "cell_type": "code",
   "execution_count": 19,
   "id": "905a4ff9",
   "metadata": {},
   "outputs": [],
   "source": [
    "#creating models\n",
    "#KNN\n",
    "knn = neighbors.KNeighborsClassifier(n_neighbors = 25, weights = 'uniform')"
   ]
  },
  {
   "cell_type": "code",
   "execution_count": 20,
   "id": "4e831b3d",
   "metadata": {},
   "outputs": [
    {
     "data": {
      "text/html": [
       "<style>#sk-container-id-1 {color: black;background-color: white;}#sk-container-id-1 pre{padding: 0;}#sk-container-id-1 div.sk-toggleable {background-color: white;}#sk-container-id-1 label.sk-toggleable__label {cursor: pointer;display: block;width: 100%;margin-bottom: 0;padding: 0.3em;box-sizing: border-box;text-align: center;}#sk-container-id-1 label.sk-toggleable__label-arrow:before {content: \"▸\";float: left;margin-right: 0.25em;color: #696969;}#sk-container-id-1 label.sk-toggleable__label-arrow:hover:before {color: black;}#sk-container-id-1 div.sk-estimator:hover label.sk-toggleable__label-arrow:before {color: black;}#sk-container-id-1 div.sk-toggleable__content {max-height: 0;max-width: 0;overflow: hidden;text-align: left;background-color: #f0f8ff;}#sk-container-id-1 div.sk-toggleable__content pre {margin: 0.2em;color: black;border-radius: 0.25em;background-color: #f0f8ff;}#sk-container-id-1 input.sk-toggleable__control:checked~div.sk-toggleable__content {max-height: 200px;max-width: 100%;overflow: auto;}#sk-container-id-1 input.sk-toggleable__control:checked~label.sk-toggleable__label-arrow:before {content: \"▾\";}#sk-container-id-1 div.sk-estimator input.sk-toggleable__control:checked~label.sk-toggleable__label {background-color: #d4ebff;}#sk-container-id-1 div.sk-label input.sk-toggleable__control:checked~label.sk-toggleable__label {background-color: #d4ebff;}#sk-container-id-1 input.sk-hidden--visually {border: 0;clip: rect(1px 1px 1px 1px);clip: rect(1px, 1px, 1px, 1px);height: 1px;margin: -1px;overflow: hidden;padding: 0;position: absolute;width: 1px;}#sk-container-id-1 div.sk-estimator {font-family: monospace;background-color: #f0f8ff;border: 1px dotted black;border-radius: 0.25em;box-sizing: border-box;margin-bottom: 0.5em;}#sk-container-id-1 div.sk-estimator:hover {background-color: #d4ebff;}#sk-container-id-1 div.sk-parallel-item::after {content: \"\";width: 100%;border-bottom: 1px solid gray;flex-grow: 1;}#sk-container-id-1 div.sk-label:hover label.sk-toggleable__label {background-color: #d4ebff;}#sk-container-id-1 div.sk-serial::before {content: \"\";position: absolute;border-left: 1px solid gray;box-sizing: border-box;top: 0;bottom: 0;left: 50%;z-index: 0;}#sk-container-id-1 div.sk-serial {display: flex;flex-direction: column;align-items: center;background-color: white;padding-right: 0.2em;padding-left: 0.2em;position: relative;}#sk-container-id-1 div.sk-item {position: relative;z-index: 1;}#sk-container-id-1 div.sk-parallel {display: flex;align-items: stretch;justify-content: center;background-color: white;position: relative;}#sk-container-id-1 div.sk-item::before, #sk-container-id-1 div.sk-parallel-item::before {content: \"\";position: absolute;border-left: 1px solid gray;box-sizing: border-box;top: 0;bottom: 0;left: 50%;z-index: -1;}#sk-container-id-1 div.sk-parallel-item {display: flex;flex-direction: column;z-index: 1;position: relative;background-color: white;}#sk-container-id-1 div.sk-parallel-item:first-child::after {align-self: flex-end;width: 50%;}#sk-container-id-1 div.sk-parallel-item:last-child::after {align-self: flex-start;width: 50%;}#sk-container-id-1 div.sk-parallel-item:only-child::after {width: 0;}#sk-container-id-1 div.sk-dashed-wrapped {border: 1px dashed gray;margin: 0 0.4em 0.5em 0.4em;box-sizing: border-box;padding-bottom: 0.4em;background-color: white;}#sk-container-id-1 div.sk-label label {font-family: monospace;font-weight: bold;display: inline-block;line-height: 1.2em;}#sk-container-id-1 div.sk-label-container {text-align: center;}#sk-container-id-1 div.sk-container {/* jupyter's `normalize.less` sets `[hidden] { display: none; }` but bootstrap.min.css set `[hidden] { display: none !important; }` so we also need the `!important` here to be able to override the default hidden behavior on the sphinx rendered scikit-learn.org. See: https://github.com/scikit-learn/scikit-learn/issues/21755 */display: inline-block !important;position: relative;}#sk-container-id-1 div.sk-text-repr-fallback {display: none;}</style><div id=\"sk-container-id-1\" class=\"sk-top-container\"><div class=\"sk-text-repr-fallback\"><pre>KNeighborsClassifier(n_neighbors=25)</pre><b>In a Jupyter environment, please rerun this cell to show the HTML representation or trust the notebook. <br />On GitHub, the HTML representation is unable to render, please try loading this page with nbviewer.org.</b></div><div class=\"sk-container\" hidden><div class=\"sk-item\"><div class=\"sk-estimator sk-toggleable\"><input class=\"sk-toggleable__control sk-hidden--visually\" id=\"sk-estimator-id-1\" type=\"checkbox\" checked><label for=\"sk-estimator-id-1\" class=\"sk-toggleable__label sk-toggleable__label-arrow\">KNeighborsClassifier</label><div class=\"sk-toggleable__content\"><pre>KNeighborsClassifier(n_neighbors=25)</pre></div></div></div></div></div>"
      ],
      "text/plain": [
       "KNeighborsClassifier(n_neighbors=25)"
      ]
     },
     "execution_count": 20,
     "metadata": {},
     "output_type": "execute_result"
    }
   ],
   "source": [
    "knn.fit(X_train, y_train)"
   ]
  },
  {
   "cell_type": "code",
   "execution_count": 21,
   "id": "5f3296ea",
   "metadata": {},
   "outputs": [
    {
     "name": "stdout",
     "output_type": "stream",
     "text": [
      "Predictions : [ 451  451  586   56  586  541  317   56  275   73  540   16    2  541\n",
      " 1108  451   56  339  720  651   85    1  856 1128 1128  260 1059  856\n",
      "  389   74 1108  540  574  106  349  106 1066  507  349  446  646    0\n",
      "  252  576  856 1108   75   56 1128   67  275  201   75   16   75  158\n",
      "   66  856   20   73  219 1066  163   56   56  163   12  856  586   73\n",
      " 1168   73  219   56   68  548  252   16 1168  548   59  349 1168  219\n",
      "  252  349  125   56   68  541  446  658    6   73  720  260  349  608\n",
      "  115  586  720   56   56  230 1128  541   56   59   14  517  252    2\n",
      "   75 1116   24  856   33   56  856  541  227  158  163  442  330  252\n",
      "    1  201   81   11   33   15  540  856  111  451  517  446  586  443\n",
      "  252   75   22   61  158  651  349  610  446  521  264 1128  194 1116\n",
      "  507  163  856   57    1 1116    6  446   56  540   73  100   33   33\n",
      "  438  158  264 1128   33  252  274  540 1128 1128   68  314 1059  541\n",
      "  507  230   33  163  521    2  453   56   33 1168   33  517   56   15\n",
      "  338   33  561    2 1128  264 1066 1128   16  100   75   12  458   68\n",
      "  252  856  230  349  517  541 1168 1168 1168   73  252  349 1128   66\n",
      "  290  576  106   56   73  507   57   33  646  433 1116   73  151   56\n",
      " 1066  720   15   16  260  274   15  252 1108  201  507   56   56 1059\n",
      "  541  201 1059 1108]\n",
      "Testing data  [ 640  910  707 1082  582  994  435   70  237   92  920  325  829  687\n",
      "   83  786  669  670  718 1025 1076 1176  619  756  792  257  513  779\n",
      " 1053   69 1124  894  501  809  514 1020   48  580  532  748  147   13\n",
      "  493  712  805 1130 1119 1031  726  415  823  484  117  515  137 1100\n",
      "  157  790  329  738  224   25  470  763  919  172   36  679  957 1162\n",
      " 1151 1148  413   78  265  673  243 1001  979  595 1045  597  933  408\n",
      "  714  767 1168 1014  358  668  653  755  491  772  901  467  568  852\n",
      " 1139  588  727  774 1024  232  868  729  158   59  701  625  363  423\n",
      "   99  365  410  986  333  781  742 1095  464 1169  473  565  539  243\n",
      "  320  395 1013  560  347  324  987  766 1043  440  644  890  953  943\n",
      " 1140 1163  327  122 1034  872  857  878  788  529  246 1009  241   84\n",
      "  828  225  861  750  826   60  414  684  144  803 1026 1093   30  427\n",
      "  461  305  489  652 1063  579 1178  691  998  787  150  534   51  882\n",
      " 1058  996  432   87  556  444  549  116  436 1112   51  723  975  883\n",
      " 1137  950  672  591  938  487  488 1111  455 1003  169 1073  633  466\n",
      "  474 1047  342  567  682  734   96  984   91 1143  693  553  620 1035\n",
      "  709   45  897  884  808  820 1164   43  618  963 1087   89   62 1110\n",
      "  593  752  905   39  247  947   23  292   86  407  420  102   82  951\n",
      "  799  278  516  902]\n",
      "640\n",
      "910\n",
      "707\n",
      "1082\n",
      "582\n",
      "994\n",
      "435\n",
      "70\n",
      "237\n",
      "92\n",
      "920\n",
      "325\n",
      "829\n",
      "687\n",
      "83\n",
      "786\n",
      "669\n",
      "670\n",
      "718\n",
      "1025\n",
      "1076\n",
      "1176\n",
      "619\n",
      "756\n",
      "792\n",
      "257\n",
      "513\n",
      "779\n",
      "1053\n",
      "69\n",
      "1124\n",
      "894\n",
      "501\n",
      "809\n",
      "514\n",
      "1020\n",
      "48\n",
      "580\n",
      "532\n",
      "748\n",
      "147\n",
      "13\n",
      "493\n",
      "712\n",
      "805\n",
      "1130\n",
      "1119\n",
      "1031\n",
      "726\n",
      "415\n",
      "823\n",
      "484\n",
      "117\n",
      "515\n",
      "137\n",
      "1100\n",
      "157\n",
      "790\n",
      "329\n",
      "738\n",
      "224\n",
      "25\n",
      "470\n",
      "763\n",
      "919\n",
      "172\n",
      "36\n",
      "679\n",
      "957\n",
      "1162\n",
      "1151\n",
      "1148\n",
      "413\n",
      "78\n",
      "265\n",
      "673\n",
      "243\n",
      "1001\n",
      "979\n",
      "595\n",
      "1045\n",
      "597\n",
      "933\n",
      "408\n",
      "714\n",
      "767\n",
      "1168\n",
      "1014\n",
      "358\n",
      "668\n",
      "653\n",
      "755\n",
      "491\n",
      "772\n",
      "901\n",
      "467\n",
      "568\n",
      "852\n",
      "1139\n",
      "588\n",
      "727\n",
      "774\n",
      "1024\n",
      "232\n",
      "868\n",
      "729\n",
      "158\n",
      "59\n",
      "701\n",
      "625\n",
      "363\n",
      "423\n",
      "99\n",
      "365\n",
      "410\n",
      "986\n",
      "333\n",
      "781\n",
      "742\n",
      "1095\n",
      "464\n",
      "1169\n",
      "473\n",
      "565\n",
      "539\n",
      "243\n",
      "320\n",
      "395\n",
      "1013\n",
      "560\n",
      "347\n",
      "324\n",
      "987\n",
      "766\n",
      "1043\n",
      "440\n",
      "644\n",
      "890\n",
      "953\n",
      "943\n",
      "1140\n",
      "1163\n",
      "327\n",
      "122\n",
      "1034\n",
      "872\n",
      "857\n",
      "878\n",
      "788\n",
      "529\n",
      "246\n",
      "1009\n",
      "241\n",
      "84\n",
      "828\n",
      "225\n",
      "861\n",
      "750\n",
      "826\n",
      "60\n",
      "414\n",
      "684\n",
      "144\n",
      "803\n",
      "1026\n",
      "1093\n",
      "30\n",
      "427\n",
      "461\n",
      "305\n",
      "489\n",
      "652\n",
      "1063\n",
      "579\n",
      "1178\n",
      "691\n",
      "998\n",
      "787\n",
      "150\n",
      "534\n",
      "51\n",
      "882\n",
      "1058\n",
      "996\n",
      "432\n",
      "87\n",
      "556\n",
      "444\n",
      "549\n",
      "116\n",
      "436\n",
      "1112\n",
      "51\n",
      "723\n",
      "975\n",
      "883\n",
      "1137\n",
      "950\n",
      "672\n",
      "591\n",
      "938\n",
      "487\n",
      "488\n",
      "1111\n",
      "455\n",
      "1003\n",
      "169\n",
      "1073\n",
      "633\n",
      "466\n",
      "474\n",
      "1047\n",
      "342\n",
      "567\n",
      "682\n",
      "734\n",
      "96\n",
      "984\n",
      "91\n",
      "1143\n",
      "693\n",
      "553\n",
      "620\n",
      "1035\n",
      "709\n",
      "45\n",
      "897\n",
      "884\n",
      "808\n",
      "820\n",
      "1164\n",
      "43\n",
      "618\n",
      "963\n",
      "1087\n",
      "89\n",
      "62\n",
      "1110\n",
      "593\n",
      "752\n",
      "905\n",
      "39\n",
      "247\n",
      "947\n",
      "23\n",
      "292\n",
      "86\n",
      "407\n",
      "420\n",
      "102\n",
      "82\n",
      "951\n",
      "799\n",
      "278\n",
      "516\n",
      "902\n"
     ]
    }
   ],
   "source": [
    "predictions = knn.predict(X_test)\n",
    "accuracy = accuracy_score(y_test, predictions)\n",
    "print (\"Predictions :\", predictions)\n",
    "print(\"Testing data \",y_test)\n",
    "\n",
    "for i in range(len(predictions)):\n",
    "    print(y_test[i])"
   ]
  },
  {
   "cell_type": "code",
   "execution_count": 22,
   "id": "2c011d5c",
   "metadata": {},
   "outputs": [
    {
     "name": "stdout",
     "output_type": "stream",
     "text": [
      "Accuracy Score : 0.00390625\n"
     ]
    }
   ],
   "source": [
    "print(\"Accuracy Score :\", accuracy)"
   ]
  },
  {
   "cell_type": "code",
   "execution_count": 23,
   "id": "f490422f",
   "metadata": {},
   "outputs": [],
   "source": [
    "# Model 2 \n",
    "model = svm.SVC()"
   ]
  },
  {
   "cell_type": "code",
   "execution_count": 24,
   "id": "1a22e84f",
   "metadata": {},
   "outputs": [
    {
     "name": "stdout",
     "output_type": "stream",
     "text": [
      "SVC()\n"
     ]
    }
   ],
   "source": [
    "model.fit(X_train, y_train)\n",
    "print(model)"
   ]
  },
  {
   "cell_type": "code",
   "execution_count": 25,
   "id": "a5db6d87",
   "metadata": {},
   "outputs": [
    {
     "name": "stdout",
     "output_type": "stream",
     "text": [
      "Predictions : [ 607  607 1168 1168 1168  753   33  762 1168  690  856   33 1168  962\n",
      " 1168  607  762  607  720  753  690 1168  856 1128  867 1168 1059  856\n",
      " 1168 1168 1168  856 1168 1168  607 1168 1066 1168  607  856  646   33\n",
      " 1168 1168  856 1168 1168 1168 1128 1168 1168 1168 1168   33 1168 1168\n",
      " 1168  856   33 1168 1168 1066 1168  690  762 1168   33  856  586  690\n",
      " 1168  690 1168  690 1168  720 1168   33 1168  753 1168  607 1168 1168\n",
      " 1168  607 1168  720 1168  962  690  690 1168  690  762 1168  607  762\n",
      " 1168 1168  762  690  762 1168  630  720 1168 1168 1168  867 1168 1059\n",
      " 1168 1168 1168  856   33  762  856  753 1168 1168 1168  607 1066 1168\n",
      " 1066 1168 1168 1066   33 1168 1168  856  872  607 1128  856 1168  607\n",
      " 1168 1168   33 1168 1168  753  607  720  856  607 1168 1128 1168 1168\n",
      " 1168 1168  856  867 1168 1168 1168  856 1168  856  690 1168   33 1168\n",
      "  607 1128 1168 1128   33 1168 1168  856 1128  630 1168   33 1066  753\n",
      " 1168 1168   33 1168  607 1059  607  872   33 1168   33  867  762 1168\n",
      " 1168   33  720 1168 1128 1168 1066  630   33 1168 1168 1168  867 1168\n",
      " 1168  856 1168  607 1168  962 1168 1168 1168  872 1168  607 1128 1168\n",
      " 1168 1168 1168  690  690 1168  867   33  646 1168 1168  690 1168  762\n",
      " 1066  762 1168   33 1168 1168 1168 1168 1168 1168 1168 1168  762 1059\n",
      "  962 1168 1059 1168]\n",
      "Accuracy : 0.00390625\n"
     ]
    }
   ],
   "source": [
    "pred = model.predict(X_test)\n",
    "acc = accuracy_score(y_test, pred)\n",
    "print(\"Predictions :\", pred)\n",
    "print(\"Accuracy :\", acc)"
   ]
  },
  {
   "cell_type": "code",
   "execution_count": 26,
   "id": "06f567d1",
   "metadata": {},
   "outputs": [
    {
     "data": {
      "text/html": [
       "<style>#sk-container-id-2 {color: black;background-color: white;}#sk-container-id-2 pre{padding: 0;}#sk-container-id-2 div.sk-toggleable {background-color: white;}#sk-container-id-2 label.sk-toggleable__label {cursor: pointer;display: block;width: 100%;margin-bottom: 0;padding: 0.3em;box-sizing: border-box;text-align: center;}#sk-container-id-2 label.sk-toggleable__label-arrow:before {content: \"▸\";float: left;margin-right: 0.25em;color: #696969;}#sk-container-id-2 label.sk-toggleable__label-arrow:hover:before {color: black;}#sk-container-id-2 div.sk-estimator:hover label.sk-toggleable__label-arrow:before {color: black;}#sk-container-id-2 div.sk-toggleable__content {max-height: 0;max-width: 0;overflow: hidden;text-align: left;background-color: #f0f8ff;}#sk-container-id-2 div.sk-toggleable__content pre {margin: 0.2em;color: black;border-radius: 0.25em;background-color: #f0f8ff;}#sk-container-id-2 input.sk-toggleable__control:checked~div.sk-toggleable__content {max-height: 200px;max-width: 100%;overflow: auto;}#sk-container-id-2 input.sk-toggleable__control:checked~label.sk-toggleable__label-arrow:before {content: \"▾\";}#sk-container-id-2 div.sk-estimator input.sk-toggleable__control:checked~label.sk-toggleable__label {background-color: #d4ebff;}#sk-container-id-2 div.sk-label input.sk-toggleable__control:checked~label.sk-toggleable__label {background-color: #d4ebff;}#sk-container-id-2 input.sk-hidden--visually {border: 0;clip: rect(1px 1px 1px 1px);clip: rect(1px, 1px, 1px, 1px);height: 1px;margin: -1px;overflow: hidden;padding: 0;position: absolute;width: 1px;}#sk-container-id-2 div.sk-estimator {font-family: monospace;background-color: #f0f8ff;border: 1px dotted black;border-radius: 0.25em;box-sizing: border-box;margin-bottom: 0.5em;}#sk-container-id-2 div.sk-estimator:hover {background-color: #d4ebff;}#sk-container-id-2 div.sk-parallel-item::after {content: \"\";width: 100%;border-bottom: 1px solid gray;flex-grow: 1;}#sk-container-id-2 div.sk-label:hover label.sk-toggleable__label {background-color: #d4ebff;}#sk-container-id-2 div.sk-serial::before {content: \"\";position: absolute;border-left: 1px solid gray;box-sizing: border-box;top: 0;bottom: 0;left: 50%;z-index: 0;}#sk-container-id-2 div.sk-serial {display: flex;flex-direction: column;align-items: center;background-color: white;padding-right: 0.2em;padding-left: 0.2em;position: relative;}#sk-container-id-2 div.sk-item {position: relative;z-index: 1;}#sk-container-id-2 div.sk-parallel {display: flex;align-items: stretch;justify-content: center;background-color: white;position: relative;}#sk-container-id-2 div.sk-item::before, #sk-container-id-2 div.sk-parallel-item::before {content: \"\";position: absolute;border-left: 1px solid gray;box-sizing: border-box;top: 0;bottom: 0;left: 50%;z-index: -1;}#sk-container-id-2 div.sk-parallel-item {display: flex;flex-direction: column;z-index: 1;position: relative;background-color: white;}#sk-container-id-2 div.sk-parallel-item:first-child::after {align-self: flex-end;width: 50%;}#sk-container-id-2 div.sk-parallel-item:last-child::after {align-self: flex-start;width: 50%;}#sk-container-id-2 div.sk-parallel-item:only-child::after {width: 0;}#sk-container-id-2 div.sk-dashed-wrapped {border: 1px dashed gray;margin: 0 0.4em 0.5em 0.4em;box-sizing: border-box;padding-bottom: 0.4em;background-color: white;}#sk-container-id-2 div.sk-label label {font-family: monospace;font-weight: bold;display: inline-block;line-height: 1.2em;}#sk-container-id-2 div.sk-label-container {text-align: center;}#sk-container-id-2 div.sk-container {/* jupyter's `normalize.less` sets `[hidden] { display: none; }` but bootstrap.min.css set `[hidden] { display: none !important; }` so we also need the `!important` here to be able to override the default hidden behavior on the sphinx rendered scikit-learn.org. See: https://github.com/scikit-learn/scikit-learn/issues/21755 */display: inline-block !important;position: relative;}#sk-container-id-2 div.sk-text-repr-fallback {display: none;}</style><div id=\"sk-container-id-2\" class=\"sk-top-container\"><div class=\"sk-text-repr-fallback\"><pre>LinearRegression()</pre><b>In a Jupyter environment, please rerun this cell to show the HTML representation or trust the notebook. <br />On GitHub, the HTML representation is unable to render, please try loading this page with nbviewer.org.</b></div><div class=\"sk-container\" hidden><div class=\"sk-item\"><div class=\"sk-estimator sk-toggleable\"><input class=\"sk-toggleable__control sk-hidden--visually\" id=\"sk-estimator-id-2\" type=\"checkbox\" checked><label for=\"sk-estimator-id-2\" class=\"sk-toggleable__label sk-toggleable__label-arrow\">LinearRegression</label><div class=\"sk-toggleable__content\"><pre>LinearRegression()</pre></div></div></div></div></div>"
      ],
      "text/plain": [
       "LinearRegression()"
      ]
     },
     "execution_count": 26,
     "metadata": {},
     "output_type": "execute_result"
    }
   ],
   "source": [
    "# Model 3\n",
    "lin = LinearRegression()\n",
    "lin.fit(X_train, y_train)"
   ]
  },
  {
   "cell_type": "code",
   "execution_count": 27,
   "id": "bb7992c6",
   "metadata": {},
   "outputs": [
    {
     "name": "stdout",
     "output_type": "stream",
     "text": [
      "Predictions : [599.81267943 541.13009032 475.71218965 801.34727946 464.41464685\n",
      " 830.01292018 550.21154993 704.01270464 404.90391536 692.12553511\n",
      " 899.11969628 300.00051169 535.17468948 769.00103632 495.0426684\n",
      " 570.04915024 698.65381689 578.62401381 777.339734   858.63068355\n",
      " 701.69114636 558.48142084 737.84440703 858.09872452 856.2879813\n",
      " 493.52301674 458.99436635 916.53621385 486.13546103 485.9427345\n",
      " 502.05764552 901.1639906  605.93038002 596.9108286  374.48466113\n",
      " 608.32165575 512.67051901 403.73093405 379.96945285 788.57290728\n",
      " 660.28461387 547.43144322 515.40225813 453.19557348 744.01571015\n",
      " 464.14826518 553.69241151 833.95471165 893.481756   527.88678704\n",
      " 411.04965561 580.59143102 464.77624339 417.94022918 571.47454501\n",
      " 706.76262333 470.49225805 914.05368354 444.15588833 774.31219829\n",
      " 451.54198655 577.08218354 547.44581015 886.40756265 825.19517259\n",
      " 488.69048314 550.92760837 908.95030605 303.75412027 665.0434345\n",
      " 461.02935224 869.33037791 536.41410646 849.44032352 419.54876396\n",
      " 722.02465632 443.05405938 363.75736448 552.49899449 810.890296\n",
      " 636.4308826  402.64142366 642.731708   468.11628944 567.21043929\n",
      " 408.9307765  567.76992834 848.02444591 469.89239096 769.00103632\n",
      " 855.91214604 875.08806425 455.9032761  842.26950039 704.30482273\n",
      " 473.86945588 449.9032169  753.21011169 740.97949739 523.48142744\n",
      " 766.83538717 886.40756265 764.25766719 532.19136071 676.26225115\n",
      " 786.39071    795.1641803  509.27357004 405.44524469 863.68140061\n",
      " 407.90970574 445.93251991 497.84272002 494.18285755 573.00908387\n",
      " 957.1935373  457.09903802 704.87326455 779.1824481  807.52694978\n",
      " 592.58987597 706.76262333 477.72210506 547.36972774 474.8566827\n",
      " 443.05405938 563.87255259 413.43318041 437.53504191 445.86936731\n",
      " 369.18489224 340.45403985 790.29721796 874.55807781 875.46033374\n",
      " 542.72494389 863.71049392 728.51314666 475.49381725 472.01974099\n",
      " 365.330226   493.69530332 345.22623428 529.18955008 748.95213132\n",
      " 851.78529959 552.70312744 938.83904913 843.96502988 527.66456544\n",
      " 463.65506824 713.26971858 454.64326267 494.37374176 337.76433879\n",
      " 488.69048314 920.82915808 813.40745752 542.38217923 626.39438406\n",
      " 480.57455629 865.36474947 755.87229568 740.42864174 855.11463992\n",
      " 620.73397672 417.14505867 545.60828468 543.7569415  757.25194407\n",
      " 650.98825789 913.21053266 539.80994054 528.99166605 419.2392221\n",
      " 860.36935941 892.86211505 665.52989056 545.25685471 519.19943884\n",
      " 511.2773857  830.01292018 362.23040042 589.2988677  568.46945292\n",
      " 573.83990885 545.58146547 464.39049975 617.83774893 802.16872178\n",
      " 557.22875324 629.3567212  455.2029279  837.56267616 737.2247088\n",
      " 419.1960972  809.33082516 384.08790885 822.53945472 497.48762149\n",
      " 775.75510132 492.69852403 453.3335689  939.19631644 477.54829262\n",
      " 620.73397672 497.84272002 404.08842324 871.17714646 521.41206405\n",
      " 434.51213785 752.37894815 588.91683522 414.07569464 793.5661721\n",
      " 769.49002234 536.31716716 568.24545292 546.18431482 808.9419413\n",
      " 540.37220254 417.30054564 849.043923   536.19928359 525.75313527\n",
      " 516.98899323 570.23209546 897.13992324 727.52291136 430.82656201\n",
      " 742.12693489 434.80093095 987.32687876 705.08601443 594.06138646\n",
      " 869.33037791 477.37364287 763.82616778 468.24744435 766.83538717\n",
      " 366.57790209 529.37535329 371.65474545 456.71986759 430.52555511\n",
      " 399.871102   501.71387558 580.59143102 431.00408559 747.28640721\n",
      " 734.90710786 428.92574566 891.80562948 479.83874461 457.3325867\n",
      " 457.70884882]\n",
      "Accuracy : 0.1858327754162804\n"
     ]
    }
   ],
   "source": [
    "prediction_linear = lin.predict(X_test)\n",
    "acc_lin = lin.score(X,y)\n",
    "print(\"Predictions :\", prediction_linear)\n",
    "print(\"Accuracy :\", acc_lin)"
   ]
  },
  {
   "cell_type": "code",
   "execution_count": 28,
   "id": "e7dc39dd",
   "metadata": {},
   "outputs": [
    {
     "name": "stderr",
     "output_type": "stream",
     "text": [
      "C:\\Users\\kaust\\anaconda3\\lib\\site-packages\\sklearn\\linear_model\\_logistic.py:444: ConvergenceWarning: lbfgs failed to converge (status=1):\n",
      "STOP: TOTAL NO. of ITERATIONS REACHED LIMIT.\n",
      "\n",
      "Increase the number of iterations (max_iter) or scale the data as shown in:\n",
      "    https://scikit-learn.org/stable/modules/preprocessing.html\n",
      "Please also refer to the documentation for alternative solver options:\n",
      "    https://scikit-learn.org/stable/modules/linear_model.html#logistic-regression\n",
      "  n_iter_i = _check_optimize_result(\n"
     ]
    },
    {
     "data": {
      "text/html": [
       "<style>#sk-container-id-3 {color: black;background-color: white;}#sk-container-id-3 pre{padding: 0;}#sk-container-id-3 div.sk-toggleable {background-color: white;}#sk-container-id-3 label.sk-toggleable__label {cursor: pointer;display: block;width: 100%;margin-bottom: 0;padding: 0.3em;box-sizing: border-box;text-align: center;}#sk-container-id-3 label.sk-toggleable__label-arrow:before {content: \"▸\";float: left;margin-right: 0.25em;color: #696969;}#sk-container-id-3 label.sk-toggleable__label-arrow:hover:before {color: black;}#sk-container-id-3 div.sk-estimator:hover label.sk-toggleable__label-arrow:before {color: black;}#sk-container-id-3 div.sk-toggleable__content {max-height: 0;max-width: 0;overflow: hidden;text-align: left;background-color: #f0f8ff;}#sk-container-id-3 div.sk-toggleable__content pre {margin: 0.2em;color: black;border-radius: 0.25em;background-color: #f0f8ff;}#sk-container-id-3 input.sk-toggleable__control:checked~div.sk-toggleable__content {max-height: 200px;max-width: 100%;overflow: auto;}#sk-container-id-3 input.sk-toggleable__control:checked~label.sk-toggleable__label-arrow:before {content: \"▾\";}#sk-container-id-3 div.sk-estimator input.sk-toggleable__control:checked~label.sk-toggleable__label {background-color: #d4ebff;}#sk-container-id-3 div.sk-label input.sk-toggleable__control:checked~label.sk-toggleable__label {background-color: #d4ebff;}#sk-container-id-3 input.sk-hidden--visually {border: 0;clip: rect(1px 1px 1px 1px);clip: rect(1px, 1px, 1px, 1px);height: 1px;margin: -1px;overflow: hidden;padding: 0;position: absolute;width: 1px;}#sk-container-id-3 div.sk-estimator {font-family: monospace;background-color: #f0f8ff;border: 1px dotted black;border-radius: 0.25em;box-sizing: border-box;margin-bottom: 0.5em;}#sk-container-id-3 div.sk-estimator:hover {background-color: #d4ebff;}#sk-container-id-3 div.sk-parallel-item::after {content: \"\";width: 100%;border-bottom: 1px solid gray;flex-grow: 1;}#sk-container-id-3 div.sk-label:hover label.sk-toggleable__label {background-color: #d4ebff;}#sk-container-id-3 div.sk-serial::before {content: \"\";position: absolute;border-left: 1px solid gray;box-sizing: border-box;top: 0;bottom: 0;left: 50%;z-index: 0;}#sk-container-id-3 div.sk-serial {display: flex;flex-direction: column;align-items: center;background-color: white;padding-right: 0.2em;padding-left: 0.2em;position: relative;}#sk-container-id-3 div.sk-item {position: relative;z-index: 1;}#sk-container-id-3 div.sk-parallel {display: flex;align-items: stretch;justify-content: center;background-color: white;position: relative;}#sk-container-id-3 div.sk-item::before, #sk-container-id-3 div.sk-parallel-item::before {content: \"\";position: absolute;border-left: 1px solid gray;box-sizing: border-box;top: 0;bottom: 0;left: 50%;z-index: -1;}#sk-container-id-3 div.sk-parallel-item {display: flex;flex-direction: column;z-index: 1;position: relative;background-color: white;}#sk-container-id-3 div.sk-parallel-item:first-child::after {align-self: flex-end;width: 50%;}#sk-container-id-3 div.sk-parallel-item:last-child::after {align-self: flex-start;width: 50%;}#sk-container-id-3 div.sk-parallel-item:only-child::after {width: 0;}#sk-container-id-3 div.sk-dashed-wrapped {border: 1px dashed gray;margin: 0 0.4em 0.5em 0.4em;box-sizing: border-box;padding-bottom: 0.4em;background-color: white;}#sk-container-id-3 div.sk-label label {font-family: monospace;font-weight: bold;display: inline-block;line-height: 1.2em;}#sk-container-id-3 div.sk-label-container {text-align: center;}#sk-container-id-3 div.sk-container {/* jupyter's `normalize.less` sets `[hidden] { display: none; }` but bootstrap.min.css set `[hidden] { display: none !important; }` so we also need the `!important` here to be able to override the default hidden behavior on the sphinx rendered scikit-learn.org. See: https://github.com/scikit-learn/scikit-learn/issues/21755 */display: inline-block !important;position: relative;}#sk-container-id-3 div.sk-text-repr-fallback {display: none;}</style><div id=\"sk-container-id-3\" class=\"sk-top-container\"><div class=\"sk-text-repr-fallback\"><pre>LogisticRegression(random_state=0)</pre><b>In a Jupyter environment, please rerun this cell to show the HTML representation or trust the notebook. <br />On GitHub, the HTML representation is unable to render, please try loading this page with nbviewer.org.</b></div><div class=\"sk-container\" hidden><div class=\"sk-item\"><div class=\"sk-estimator sk-toggleable\"><input class=\"sk-toggleable__control sk-hidden--visually\" id=\"sk-estimator-id-3\" type=\"checkbox\" checked><label for=\"sk-estimator-id-3\" class=\"sk-toggleable__label sk-toggleable__label-arrow\">LogisticRegression</label><div class=\"sk-toggleable__content\"><pre>LogisticRegression(random_state=0)</pre></div></div></div></div></div>"
      ],
      "text/plain": [
       "LogisticRegression(random_state=0)"
      ]
     },
     "execution_count": 28,
     "metadata": {},
     "output_type": "execute_result"
    }
   ],
   "source": [
    "#Model 4\n",
    "LogReg = LogisticRegression(random_state=0)\n",
    "LogReg.fit(X_train, y_train)"
   ]
  },
  {
   "cell_type": "code",
   "execution_count": 29,
   "id": "504fafdc",
   "metadata": {},
   "outputs": [
    {
     "name": "stdout",
     "output_type": "stream",
     "text": [
      "Predictions : [ 634  512  713 1018  586  739  453 1149  236 1157  768  680 1056  745\n",
      "   65  512  869  601  654 1081 1005    7  856  974  760  208  445  936\n",
      "  959 1159  988  768  574  911  443 1168 1016  507  538  598 1160    3\n",
      " 1169  697  990   71   77  941  638  716  309  388 1136  439 1153 1154\n",
      "   94  962   33  875  272  454  411  876  869  213   21  962  437 1145\n",
      "   63  111  403  115  202  773  252   33 1051  645  893  525 1030  469\n",
      " 1169  525  125 1049  273  745  603  797    9 1151  791 1059  538  751\n",
      " 1084  571  762  876 1049  234 1169  744  158 1108   17  674  275  449\n",
      "  160  350  479 1037  425  869  728 1106  388 1154  500  569  421  252\n",
      "  683  378  256  629  313 1055  907  856  964  451  517  990  586  536\n",
      " 1169 1041  411  168  651  929  719  662  725  616  298 1175  266 1085\n",
      "  486  213  935  458  456 1131  419  856 1169  967  776  228  331  422\n",
      "  451 1019  503  638   38  508 1169  611 1169 1169 1122  557  316  739\n",
      "  486 1107  441  146  616  449  542  105  339 1040  331  662 1049 1115\n",
      " 1126   44  859  832  845  811 1066  853  448  228  160  821  613  811\n",
      "  396  990  334  650  641  745  992 1040  191 1160  411  526  677 1158\n",
      "   34   46 1168  876 1025   37   90  313  635  913 1131  111 1167 1049\n",
      " 1066  762 1115   35  310  236   19  275  988  388  406 1169 1149  830\n",
      "  835  716  315 1029]\n",
      "Accuacy : 0.00390625\n"
     ]
    }
   ],
   "source": [
    "print(\"Predictions :\", LogReg.predict(X_test));\n",
    "print(\"Accuacy :\", LogReg.score(X_test, y_test))"
   ]
  },
  {
   "cell_type": "code",
   "execution_count": 33,
   "id": "d6450ad3",
   "metadata": {},
   "outputs": [
    {
     "data": {
      "text/html": [
       "<style>#sk-container-id-5 {color: black;background-color: white;}#sk-container-id-5 pre{padding: 0;}#sk-container-id-5 div.sk-toggleable {background-color: white;}#sk-container-id-5 label.sk-toggleable__label {cursor: pointer;display: block;width: 100%;margin-bottom: 0;padding: 0.3em;box-sizing: border-box;text-align: center;}#sk-container-id-5 label.sk-toggleable__label-arrow:before {content: \"▸\";float: left;margin-right: 0.25em;color: #696969;}#sk-container-id-5 label.sk-toggleable__label-arrow:hover:before {color: black;}#sk-container-id-5 div.sk-estimator:hover label.sk-toggleable__label-arrow:before {color: black;}#sk-container-id-5 div.sk-toggleable__content {max-height: 0;max-width: 0;overflow: hidden;text-align: left;background-color: #f0f8ff;}#sk-container-id-5 div.sk-toggleable__content pre {margin: 0.2em;color: black;border-radius: 0.25em;background-color: #f0f8ff;}#sk-container-id-5 input.sk-toggleable__control:checked~div.sk-toggleable__content {max-height: 200px;max-width: 100%;overflow: auto;}#sk-container-id-5 input.sk-toggleable__control:checked~label.sk-toggleable__label-arrow:before {content: \"▾\";}#sk-container-id-5 div.sk-estimator input.sk-toggleable__control:checked~label.sk-toggleable__label {background-color: #d4ebff;}#sk-container-id-5 div.sk-label input.sk-toggleable__control:checked~label.sk-toggleable__label {background-color: #d4ebff;}#sk-container-id-5 input.sk-hidden--visually {border: 0;clip: rect(1px 1px 1px 1px);clip: rect(1px, 1px, 1px, 1px);height: 1px;margin: -1px;overflow: hidden;padding: 0;position: absolute;width: 1px;}#sk-container-id-5 div.sk-estimator {font-family: monospace;background-color: #f0f8ff;border: 1px dotted black;border-radius: 0.25em;box-sizing: border-box;margin-bottom: 0.5em;}#sk-container-id-5 div.sk-estimator:hover {background-color: #d4ebff;}#sk-container-id-5 div.sk-parallel-item::after {content: \"\";width: 100%;border-bottom: 1px solid gray;flex-grow: 1;}#sk-container-id-5 div.sk-label:hover label.sk-toggleable__label {background-color: #d4ebff;}#sk-container-id-5 div.sk-serial::before {content: \"\";position: absolute;border-left: 1px solid gray;box-sizing: border-box;top: 0;bottom: 0;left: 50%;z-index: 0;}#sk-container-id-5 div.sk-serial {display: flex;flex-direction: column;align-items: center;background-color: white;padding-right: 0.2em;padding-left: 0.2em;position: relative;}#sk-container-id-5 div.sk-item {position: relative;z-index: 1;}#sk-container-id-5 div.sk-parallel {display: flex;align-items: stretch;justify-content: center;background-color: white;position: relative;}#sk-container-id-5 div.sk-item::before, #sk-container-id-5 div.sk-parallel-item::before {content: \"\";position: absolute;border-left: 1px solid gray;box-sizing: border-box;top: 0;bottom: 0;left: 50%;z-index: -1;}#sk-container-id-5 div.sk-parallel-item {display: flex;flex-direction: column;z-index: 1;position: relative;background-color: white;}#sk-container-id-5 div.sk-parallel-item:first-child::after {align-self: flex-end;width: 50%;}#sk-container-id-5 div.sk-parallel-item:last-child::after {align-self: flex-start;width: 50%;}#sk-container-id-5 div.sk-parallel-item:only-child::after {width: 0;}#sk-container-id-5 div.sk-dashed-wrapped {border: 1px dashed gray;margin: 0 0.4em 0.5em 0.4em;box-sizing: border-box;padding-bottom: 0.4em;background-color: white;}#sk-container-id-5 div.sk-label label {font-family: monospace;font-weight: bold;display: inline-block;line-height: 1.2em;}#sk-container-id-5 div.sk-label-container {text-align: center;}#sk-container-id-5 div.sk-container {/* jupyter's `normalize.less` sets `[hidden] { display: none; }` but bootstrap.min.css set `[hidden] { display: none !important; }` so we also need the `!important` here to be able to override the default hidden behavior on the sphinx rendered scikit-learn.org. See: https://github.com/scikit-learn/scikit-learn/issues/21755 */display: inline-block !important;position: relative;}#sk-container-id-5 div.sk-text-repr-fallback {display: none;}</style><div id=\"sk-container-id-5\" class=\"sk-top-container\"><div class=\"sk-text-repr-fallback\"><pre>DecisionTreeRegressor()</pre><b>In a Jupyter environment, please rerun this cell to show the HTML representation or trust the notebook. <br />On GitHub, the HTML representation is unable to render, please try loading this page with nbviewer.org.</b></div><div class=\"sk-container\" hidden><div class=\"sk-item\"><div class=\"sk-estimator sk-toggleable\"><input class=\"sk-toggleable__control sk-hidden--visually\" id=\"sk-estimator-id-5\" type=\"checkbox\" checked><label for=\"sk-estimator-id-5\" class=\"sk-toggleable__label sk-toggleable__label-arrow\">DecisionTreeRegressor</label><div class=\"sk-toggleable__content\"><pre>DecisionTreeRegressor()</pre></div></div></div></div></div>"
      ],
      "text/plain": [
       "DecisionTreeRegressor()"
      ]
     },
     "execution_count": 33,
     "metadata": {},
     "output_type": "execute_result"
    }
   ],
   "source": [
    "#Decision tree\n",
    "treere = DecisionTreeRegressor()\n",
    "treere.fit(X_train, y_train)"
   ]
  },
  {
   "cell_type": "code",
   "execution_count": 37,
   "id": "4a2f6f68",
   "metadata": {},
   "outputs": [
    {
     "name": "stdout",
     "output_type": "stream",
     "text": [
      "Predictions : [ 634.          512.          765.         1036.          586.\n",
      "  796.5         438.          602.5         378.         1145.\n",
      "  866.          509.          743.          755.           83.5\n",
      "  512.          667.          512.          846.         1081.\n",
      " 1099.            4.          691.5         690.          760.\n",
      "  272.5         431.          909.          959.          616.5\n",
      " 1133.          866.          492.          839.          443.\n",
      "  919.33333333  822.          507.          538.          685.\n",
      "  798.            3.          472.          697.          890.5\n",
      "  593.5         126.          941.          658.          992.\n",
      "  507.          504.          622.          511.         1153.\n",
      "  663.          211.          866.          953.          664.\n",
      "  258.           10.          411.          931.         1092.\n",
      "  213.           21.          611.           27.         1145.\n",
      "   63.          111.          403.         1128.          202.\n",
      "  773.          239.            4.          963.5         645.\n",
      " 1030.          563.         1030.          469.          697.5\n",
      "  650.          474.         1151.          285.          755.\n",
      "  603.          874.66666667  743.          690.          871.\n",
      "  507.          559.          877.         1084.          571.\n",
      "  762.          931.         1038.          234.          972.\n",
      "  744.          663.          437.66666667    5.          588.5\n",
      "  378.          431.          160.          306.          479.\n",
      "  896.          425.          867.          728.         1106.\n",
      "  388.          663.          500.          569.          330.\n",
      "  239.          340.          391.          437.66666667 1115.\n",
      "  322.          819.         1094.          789.          964.\n",
      "  550.          588.5         889.          706.5         650.\n",
      "  253.         1041.           49.          168.          864.\n",
      "  929.          425.          909.          889.          536.\n",
      "  298.          915.          266.         1085.          369.5\n",
      "  213.          929.33333333  677.            2.         1107.\n",
      "  414.          724.         1169.          892.          968.\n",
      " 1168.          819.          422.          512.         1158.\n",
      "  503.          658.           23.          508.          819.\n",
      "  768.          899.          845.         1122.          621.\n",
      "  316.          796.5         354.         1030.          402.\n",
      " 1153.          563.          431.          566.          105.\n",
      "  402.          982.           44.          662.         1038.\n",
      " 1115.         1126.         1061.          667.          960.\n",
      "  845.          480.          586.         1088.          448.\n",
      " 1168.          160.            4.          588.5         168.\n",
      "  481.          990.          334.          650.          641.\n",
      "  755.          138.         1030.         1133.           93.\n",
      "  702.          552.5         677.          847.          834.\n",
      "   46.          810.          876.          909.          586.\n",
      "  459.66666667   49.          635.          913.         1030.\n",
      "  111.          437.66666667 1049.          447.          762.\n",
      " 1115.           33.          256.          834.           19.\n",
      "  278.          616.5         504.          446.         1169.\n",
      "  602.5         830.          775.5         372.          445.\n",
      "  915.5       ]\n",
      "Accuacy : -0.14328647038736397\n"
     ]
    }
   ],
   "source": [
    "print(\"Predictions :\", treere.predict(X_test));\n",
    "print(\"Accuacy :\", treere.score(X_test, y_test))"
   ]
  },
  {
   "cell_type": "code",
   "execution_count": 41,
   "id": "fe496bee",
   "metadata": {},
   "outputs": [
    {
     "data": {
      "text/html": [
       "<style>#sk-container-id-6 {color: black;background-color: white;}#sk-container-id-6 pre{padding: 0;}#sk-container-id-6 div.sk-toggleable {background-color: white;}#sk-container-id-6 label.sk-toggleable__label {cursor: pointer;display: block;width: 100%;margin-bottom: 0;padding: 0.3em;box-sizing: border-box;text-align: center;}#sk-container-id-6 label.sk-toggleable__label-arrow:before {content: \"▸\";float: left;margin-right: 0.25em;color: #696969;}#sk-container-id-6 label.sk-toggleable__label-arrow:hover:before {color: black;}#sk-container-id-6 div.sk-estimator:hover label.sk-toggleable__label-arrow:before {color: black;}#sk-container-id-6 div.sk-toggleable__content {max-height: 0;max-width: 0;overflow: hidden;text-align: left;background-color: #f0f8ff;}#sk-container-id-6 div.sk-toggleable__content pre {margin: 0.2em;color: black;border-radius: 0.25em;background-color: #f0f8ff;}#sk-container-id-6 input.sk-toggleable__control:checked~div.sk-toggleable__content {max-height: 200px;max-width: 100%;overflow: auto;}#sk-container-id-6 input.sk-toggleable__control:checked~label.sk-toggleable__label-arrow:before {content: \"▾\";}#sk-container-id-6 div.sk-estimator input.sk-toggleable__control:checked~label.sk-toggleable__label {background-color: #d4ebff;}#sk-container-id-6 div.sk-label input.sk-toggleable__control:checked~label.sk-toggleable__label {background-color: #d4ebff;}#sk-container-id-6 input.sk-hidden--visually {border: 0;clip: rect(1px 1px 1px 1px);clip: rect(1px, 1px, 1px, 1px);height: 1px;margin: -1px;overflow: hidden;padding: 0;position: absolute;width: 1px;}#sk-container-id-6 div.sk-estimator {font-family: monospace;background-color: #f0f8ff;border: 1px dotted black;border-radius: 0.25em;box-sizing: border-box;margin-bottom: 0.5em;}#sk-container-id-6 div.sk-estimator:hover {background-color: #d4ebff;}#sk-container-id-6 div.sk-parallel-item::after {content: \"\";width: 100%;border-bottom: 1px solid gray;flex-grow: 1;}#sk-container-id-6 div.sk-label:hover label.sk-toggleable__label {background-color: #d4ebff;}#sk-container-id-6 div.sk-serial::before {content: \"\";position: absolute;border-left: 1px solid gray;box-sizing: border-box;top: 0;bottom: 0;left: 50%;z-index: 0;}#sk-container-id-6 div.sk-serial {display: flex;flex-direction: column;align-items: center;background-color: white;padding-right: 0.2em;padding-left: 0.2em;position: relative;}#sk-container-id-6 div.sk-item {position: relative;z-index: 1;}#sk-container-id-6 div.sk-parallel {display: flex;align-items: stretch;justify-content: center;background-color: white;position: relative;}#sk-container-id-6 div.sk-item::before, #sk-container-id-6 div.sk-parallel-item::before {content: \"\";position: absolute;border-left: 1px solid gray;box-sizing: border-box;top: 0;bottom: 0;left: 50%;z-index: -1;}#sk-container-id-6 div.sk-parallel-item {display: flex;flex-direction: column;z-index: 1;position: relative;background-color: white;}#sk-container-id-6 div.sk-parallel-item:first-child::after {align-self: flex-end;width: 50%;}#sk-container-id-6 div.sk-parallel-item:last-child::after {align-self: flex-start;width: 50%;}#sk-container-id-6 div.sk-parallel-item:only-child::after {width: 0;}#sk-container-id-6 div.sk-dashed-wrapped {border: 1px dashed gray;margin: 0 0.4em 0.5em 0.4em;box-sizing: border-box;padding-bottom: 0.4em;background-color: white;}#sk-container-id-6 div.sk-label label {font-family: monospace;font-weight: bold;display: inline-block;line-height: 1.2em;}#sk-container-id-6 div.sk-label-container {text-align: center;}#sk-container-id-6 div.sk-container {/* jupyter's `normalize.less` sets `[hidden] { display: none; }` but bootstrap.min.css set `[hidden] { display: none !important; }` so we also need the `!important` here to be able to override the default hidden behavior on the sphinx rendered scikit-learn.org. See: https://github.com/scikit-learn/scikit-learn/issues/21755 */display: inline-block !important;position: relative;}#sk-container-id-6 div.sk-text-repr-fallback {display: none;}</style><div id=\"sk-container-id-6\" class=\"sk-top-container\"><div class=\"sk-text-repr-fallback\"><pre>RandomForestRegressor()</pre><b>In a Jupyter environment, please rerun this cell to show the HTML representation or trust the notebook. <br />On GitHub, the HTML representation is unable to render, please try loading this page with nbviewer.org.</b></div><div class=\"sk-container\" hidden><div class=\"sk-item\"><div class=\"sk-estimator sk-toggleable\"><input class=\"sk-toggleable__control sk-hidden--visually\" id=\"sk-estimator-id-6\" type=\"checkbox\" checked><label for=\"sk-estimator-id-6\" class=\"sk-toggleable__label sk-toggleable__label-arrow\">RandomForestRegressor</label><div class=\"sk-toggleable__content\"><pre>RandomForestRegressor()</pre></div></div></div></div></div>"
      ],
      "text/plain": [
       "RandomForestRegressor()"
      ]
     },
     "execution_count": 41,
     "metadata": {},
     "output_type": "execute_result"
    }
   ],
   "source": [
    "#Random Forest\n",
    "clf = RandomForestRegressor()\n",
    "clf.fit(X_train, y_train)"
   ]
  },
  {
   "cell_type": "code",
   "execution_count": 42,
   "id": "5bc51d09",
   "metadata": {},
   "outputs": [
    {
     "name": "stdout",
     "output_type": "stream",
     "text": [
      "Predictions : [ 630.22        627.32216667  752.64866667 1038.4575      603.135\n",
      "  802.69916667  438.06607143  609.535       307.44552381  917.98433333\n",
      "  834.494       202.72        649.63233333  745.49761905   80.80185317\n",
      "  620.83216667  697.3         629.453       762.08       1027.67\n",
      "  984.2855      308.31109524  704.03816667  866.0605      774.76333333\n",
      "  297.09383333  427.22        888.69691667  791.92        610.36333333\n",
      "  974.63333333  836.924       578.00583333  854.82        464.534\n",
      "  797.2975      531.26935714  562.59047619  525.654       684.72114286\n",
      "  831.34266667  185.07814286  491.7475      674.81416667  905.87666667\n",
      "  562.53155556  174.27677778  948.37083333  695.97833333  643.72785714\n",
      "  586.17433333  523.88633333  644.444       450.18666667  806.785\n",
      "  821.39666667  223.55        827.02490079  523.35333333  816.06733333\n",
      "  253.05933333  472.39833333  420.3725      759.13416667  857.08169048\n",
      "  196.06190476  280.46642857  657.79        324.26       1054.25833333\n",
      "  296.58166667  391.46666667  418.5365      966.09666667  205.00666667\n",
      "  754.16        274.05378788  531.42116667  898.664       620.21444444\n",
      "  871.8065      590.705      1003.275       460.242       772.07583333\n",
      "  639.07        467.68431746 1022.61333333  299.1155      745.49761905\n",
      "  666.34333333  800.16466667  679.955       901.37821429  859.32\n",
      "  551.58        537.51166667  875.83216667 1000.21833333  637.808\n",
      "  752.70066667  759.13416667  993.85508333  283.4305      910.45\n",
      "  742.125       820.635       817.91266667  397.70666667  596.9475\n",
      "  326.804       433.98333333  365.41166667  350.8115      581.13916667\n",
      "  915.336       506.8045      884.2875      734.19083333 1032.74666667\n",
      "  461.86133333  821.39666667  451.1785      588.39        558.725\n",
      "  274.05378788  415.70633333  376.90966667  896.11866667  658.9025\n",
      "  525.5025      605.51602381  963.131       814.87533333  955.75666667\n",
      "  524.845       673.07833333  872.54        670.0727619   684.80383333\n",
      "  930.4875      924.676       404.3585      248.09666667  843.69866667\n",
      "  919.63166667  650.95833333  774.43133333  858.70266667  540.18\n",
      "  287.485       852.91266667  262.8075      950.47416667  290.8665\n",
      "  196.06190476  896.73108333  721.46366667  424.77666667  813.53783333\n",
      "  437.40733333  671.10694444 1076.85        813.389       970.46583333\n",
      "  798.8175      537.88652381  431.66333333  505.72        530.0875\n",
      "  566.13285714  676.07333333  431.855       532.57045455  628.21233333\n",
      "  772.91358333  928.91991667  812.21        609.64433333  506.03833333\n",
      "  417.09333333  802.69916667  292.7565      897.44166667  404.66678571\n",
      "  650.7         569.10833333  429.605       551.02516667  470.57666667\n",
      "  399.85795238  948.65333333  385.43166667  663.61333333  987.97583333\n",
      "  767.6        1074.98        722.36888889  667.77016667  760.69416667\n",
      "  825.732       410.904       621.92785714  942.72533333  420.26566667\n",
      "  798.8175      365.41166667  746.19        595.08666667  489.83266667\n",
      "  433.20916667  966.43833333  473.28166667  625.03        632.53\n",
      "  742.52428571  787.53583333 1018.93666667  559.36166667  260.05033333\n",
      "  643.79        530.92916667  687.80166667  991.84595238  706.96633333\n",
      "  137.61        805.475       877.24716667  908.42666667  612.88880952\n",
      "  494.55612302  328.71333333  637.545       879.47        929.1675\n",
      "  391.46666667  425.04353571  999.38066667  524.84666667  752.70066667\n",
      "  712.762       268.46116667  264.45954762  695.31083333   97.69\n",
      "  277.53559524  785.42333333  523.88633333  439.55       1087.55333333\n",
      "  625.095       535.83166667  777.01585714  275.85833333  491.81166667\n",
      "  882.84233333]\n",
      "Accuacy : 0.27201177428689727\n"
     ]
    }
   ],
   "source": [
    "print(\"Predictions :\", clf.predict(X_test));\n",
    "print(\"Accuacy :\", clf.score(X_test, y_test))"
   ]
  }
 ],
 "metadata": {
  "kernelspec": {
   "display_name": "Python 3 (ipykernel)",
   "language": "python",
   "name": "python3"
  },
  "language_info": {
   "codemirror_mode": {
    "name": "ipython",
    "version": 3
   },
   "file_extension": ".py",
   "mimetype": "text/x-python",
   "name": "python",
   "nbconvert_exporter": "python",
   "pygments_lexer": "ipython3",
   "version": "3.9.7"
  }
 },
 "nbformat": 4,
 "nbformat_minor": 5
}
